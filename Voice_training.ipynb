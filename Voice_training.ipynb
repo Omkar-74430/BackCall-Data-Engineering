{
 "cells": [
  {
   "cell_type": "code",
   "execution_count": 1,
   "id": "3602fd29-2ed1-49d3-93a9-6c7fb4295e7d",
   "metadata": {},
   "outputs": [
    {
     "name": "stdout",
     "output_type": "stream",
     "text": [
      "Requirement already satisfied: numpy in c:\\users\\omkar\\appdata\\local\\programs\\python\\python310\\lib\\site-packages (1.26.2)\n",
      "Collecting cython\n",
      "  Using cached Cython-3.0.11-cp310-cp310-win_amd64.whl.metadata (3.2 kB)\n",
      "Requirement already satisfied: torch in c:\\users\\omkar\\appdata\\local\\programs\\python\\python310\\lib\\site-packages (2.5.1)\n",
      "Requirement already satisfied: torchaudio in c:\\users\\omkar\\appdata\\local\\programs\\python\\python310\\lib\\site-packages (2.4.1)\n",
      "Requirement already satisfied: librosa in c:\\users\\omkar\\appdata\\local\\programs\\python\\python310\\lib\\site-packages (0.10.2.post1)\n",
      "Requirement already satisfied: soundfile in c:\\users\\omkar\\appdata\\local\\programs\\python\\python310\\lib\\site-packages (0.12.1)\n",
      "Requirement already satisfied: pydantic in c:\\users\\omkar\\appdata\\local\\programs\\python\\python310\\lib\\site-packages (2.9.2)\n",
      "Requirement already satisfied: filelock in c:\\users\\omkar\\appdata\\local\\programs\\python\\python310\\lib\\site-packages (from torch) (3.3.1)\n",
      "Requirement already satisfied: typing-extensions>=4.8.0 in c:\\users\\omkar\\appdata\\local\\programs\\python\\python310\\lib\\site-packages (from torch) (4.12.2)\n",
      "Requirement already satisfied: networkx in c:\\users\\omkar\\appdata\\local\\programs\\python\\python310\\lib\\site-packages (from torch) (3.3)\n",
      "Requirement already satisfied: jinja2 in c:\\users\\omkar\\appdata\\local\\programs\\python\\python310\\lib\\site-packages (from torch) (3.1.2)\n",
      "Requirement already satisfied: fsspec in c:\\users\\omkar\\appdata\\local\\programs\\python\\python310\\lib\\site-packages (from torch) (2024.5.0)\n",
      "Requirement already satisfied: sympy==1.13.1 in c:\\users\\omkar\\appdata\\local\\programs\\python\\python310\\lib\\site-packages (from torch) (1.13.1)\n",
      "Requirement already satisfied: mpmath<1.4,>=1.1.0 in c:\\users\\omkar\\appdata\\local\\programs\\python\\python310\\lib\\site-packages (from sympy==1.13.1->torch) (1.3.0)\n",
      "Collecting torch\n",
      "  Using cached torch-2.4.1-cp310-cp310-win_amd64.whl.metadata (27 kB)\n",
      "Requirement already satisfied: audioread>=2.1.9 in c:\\users\\omkar\\appdata\\local\\programs\\python\\python310\\lib\\site-packages (from librosa) (3.0.1)\n",
      "Requirement already satisfied: scipy>=1.2.0 in c:\\users\\omkar\\appdata\\local\\programs\\python\\python310\\lib\\site-packages (from librosa) (1.11.4)\n",
      "Requirement already satisfied: scikit-learn>=0.20.0 in c:\\users\\omkar\\appdata\\local\\programs\\python\\python310\\lib\\site-packages (from librosa) (1.3.2)\n",
      "Requirement already satisfied: joblib>=0.14 in c:\\users\\omkar\\appdata\\local\\programs\\python\\python310\\lib\\site-packages (from librosa) (1.3.2)\n",
      "Requirement already satisfied: decorator>=4.3.0 in c:\\users\\omkar\\appdata\\local\\programs\\python\\python310\\lib\\site-packages (from librosa) (5.1.1)\n",
      "Requirement already satisfied: numba>=0.51.0 in c:\\users\\omkar\\appdata\\local\\programs\\python\\python310\\lib\\site-packages (from librosa) (0.60.0)\n",
      "Requirement already satisfied: pooch>=1.1 in c:\\users\\omkar\\appdata\\local\\programs\\python\\python310\\lib\\site-packages (from librosa) (1.8.2)\n",
      "Requirement already satisfied: soxr>=0.3.2 in c:\\users\\omkar\\appdata\\local\\programs\\python\\python310\\lib\\site-packages (from librosa) (0.5.0.post1)\n",
      "Requirement already satisfied: lazy-loader>=0.1 in c:\\users\\omkar\\appdata\\local\\programs\\python\\python310\\lib\\site-packages (from librosa) (0.4)\n",
      "Requirement already satisfied: msgpack>=1.0 in c:\\users\\omkar\\appdata\\local\\programs\\python\\python310\\lib\\site-packages (from librosa) (1.1.0)\n",
      "Requirement already satisfied: cffi>=1.0 in c:\\users\\omkar\\appdata\\local\\programs\\python\\python310\\lib\\site-packages (from soundfile) (1.16.0)\n",
      "Requirement already satisfied: annotated-types>=0.6.0 in c:\\users\\omkar\\appdata\\local\\programs\\python\\python310\\lib\\site-packages (from pydantic) (0.7.0)\n",
      "Requirement already satisfied: pydantic-core==2.23.4 in c:\\users\\omkar\\appdata\\local\\programs\\python\\python310\\lib\\site-packages (from pydantic) (2.23.4)\n",
      "Requirement already satisfied: pycparser in c:\\users\\omkar\\appdata\\local\\programs\\python\\python310\\lib\\site-packages (from cffi>=1.0->soundfile) (2.21)\n",
      "Requirement already satisfied: packaging in c:\\users\\omkar\\appdata\\local\\programs\\python\\python310\\lib\\site-packages (from lazy-loader>=0.1->librosa) (23.2)\n",
      "Requirement already satisfied: llvmlite<0.44,>=0.43.0dev0 in c:\\users\\omkar\\appdata\\local\\programs\\python\\python310\\lib\\site-packages (from numba>=0.51.0->librosa) (0.43.0)\n",
      "Requirement already satisfied: platformdirs>=2.5.0 in c:\\users\\omkar\\appdata\\local\\programs\\python\\python310\\lib\\site-packages (from pooch>=1.1->librosa) (4.1.0)\n",
      "Requirement already satisfied: requests>=2.19.0 in c:\\users\\omkar\\appdata\\local\\programs\\python\\python310\\lib\\site-packages (from pooch>=1.1->librosa) (2.31.0)\n",
      "Requirement already satisfied: threadpoolctl>=2.0.0 in c:\\users\\omkar\\appdata\\local\\programs\\python\\python310\\lib\\site-packages (from scikit-learn>=0.20.0->librosa) (3.2.0)\n",
      "Requirement already satisfied: MarkupSafe>=2.0 in c:\\users\\omkar\\appdata\\local\\programs\\python\\python310\\lib\\site-packages (from jinja2->torch) (2.1.3)\n",
      "Requirement already satisfied: charset-normalizer<4,>=2 in c:\\users\\omkar\\appdata\\local\\programs\\python\\python310\\lib\\site-packages (from requests>=2.19.0->pooch>=1.1->librosa) (3.3.2)\n",
      "Requirement already satisfied: idna<4,>=2.5 in c:\\users\\omkar\\appdata\\local\\programs\\python\\python310\\lib\\site-packages (from requests>=2.19.0->pooch>=1.1->librosa) (3.6)\n",
      "Requirement already satisfied: urllib3<3,>=1.21.1 in c:\\users\\omkar\\appdata\\local\\programs\\python\\python310\\lib\\site-packages (from requests>=2.19.0->pooch>=1.1->librosa) (2.1.0)\n",
      "Requirement already satisfied: certifi>=2017.4.17 in c:\\users\\omkar\\appdata\\local\\programs\\python\\python310\\lib\\site-packages (from requests>=2.19.0->pooch>=1.1->librosa) (2022.12.7)\n",
      "Using cached Cython-3.0.11-cp310-cp310-win_amd64.whl (2.8 MB)\n",
      "Using cached torch-2.4.1-cp310-cp310-win_amd64.whl (199.4 MB)\n",
      "Installing collected packages: cython, torch\n",
      "  Attempting uninstall: torch\n",
      "    Found existing installation: torch 2.5.1\n",
      "    Uninstalling torch-2.5.1:\n",
      "      Successfully uninstalled torch-2.5.1\n",
      "Successfully installed cython-3.0.11 torch-2.4.1\n",
      "Note: you may need to restart the kernel to use updated packages.\n"
     ]
    },
    {
     "name": "stderr",
     "output_type": "stream",
     "text": [
      "  WARNING: Failed to remove contents in a temporary directory 'C:\\Users\\omkar\\AppData\\Local\\Programs\\Python\\Python310\\Lib\\site-packages\\~-rch'.\n",
      "  You can safely remove it manually.\n",
      "ERROR: pip's dependency resolver does not currently take into account all the packages that are installed. This behaviour is the source of the following dependency conflicts.\n",
      "torchvision 0.20.1 requires torch==2.5.1, but you have torch 2.4.1 which is incompatible.\n"
     ]
    }
   ],
   "source": [
    "pip install numpy cython torch torchaudio librosa soundfile pydantic"
   ]
  },
  {
   "cell_type": "code",
   "execution_count": 1,
   "id": "b95ef1c0-a0b9-4d1e-a494-02a94c99588d",
   "metadata": {},
   "outputs": [
    {
     "ename": "SyntaxError",
     "evalue": "invalid syntax. Perhaps you forgot a comma? (2710730626.py, line 1)",
     "output_type": "error",
     "traceback": [
      "\u001b[1;36m  Cell \u001b[1;32mIn[1], line 1\u001b[1;36m\u001b[0m\n\u001b[1;33m    sudo apt-get install espeak\u001b[0m\n\u001b[1;37m            ^\u001b[0m\n\u001b[1;31mSyntaxError\u001b[0m\u001b[1;31m:\u001b[0m invalid syntax. Perhaps you forgot a comma?\n"
     ]
    }
   ],
   "source": [
    "sudo apt-get install espeak\n"
   ]
  },
  {
   "cell_type": "code",
   "execution_count": 1,
   "id": "7406a24c-42b4-433e-9c74-0e90e24c752d",
   "metadata": {},
   "outputs": [
    {
     "ename": "ModuleNotFoundError",
     "evalue": "No module named 'TTS'",
     "output_type": "error",
     "traceback": [
      "\u001b[1;31m---------------------------------------------------------------------------\u001b[0m",
      "\u001b[1;31mModuleNotFoundError\u001b[0m                       Traceback (most recent call last)",
      "Cell \u001b[1;32mIn[1], line 1\u001b[0m\n\u001b[1;32m----> 1\u001b[0m \u001b[38;5;28;01mfrom\u001b[39;00m \u001b[38;5;21;01mTTS\u001b[39;00m\u001b[38;5;21;01m.\u001b[39;00m\u001b[38;5;21;01mutils\u001b[39;00m\u001b[38;5;21;01m.\u001b[39;00m\u001b[38;5;21;01mmanage\u001b[39;00m \u001b[38;5;28;01mimport\u001b[39;00m ModelManager\n\u001b[0;32m      3\u001b[0m models \u001b[38;5;241m=\u001b[39m ModelManager()\u001b[38;5;241m.\u001b[39mlist_models()\n\u001b[0;32m      4\u001b[0m \u001b[38;5;28mprint\u001b[39m(models)\n",
      "\u001b[1;31mModuleNotFoundError\u001b[0m: No module named 'TTS'"
     ]
    }
   ],
   "source": [
    "from TTS.utils.manage import ModelManager\n",
    "\n",
    "models = ModelManager().list_models()\n",
    "print(models)\n"
   ]
  },
  {
   "cell_type": "code",
   "execution_count": 2,
   "id": "7383817d-dbec-497a-9e1f-aa0c102dd44b",
   "metadata": {},
   "outputs": [
    {
     "name": "stdout",
     "output_type": "stream",
     "text": [
      "Note: you may need to restart the kernel to use updated packages.\n"
     ]
    },
    {
     "name": "stderr",
     "output_type": "stream",
     "text": [
      "WARNING: Skipping TTS as it is not installed.\n"
     ]
    }
   ],
   "source": [
    "pip uninstall TTS -y\n"
   ]
  },
  {
   "cell_type": "code",
   "execution_count": null,
   "id": "005d9608-7824-4abf-ac4f-8f6d3eec64f7",
   "metadata": {},
   "outputs": [],
   "source": []
  }
 ],
 "metadata": {
  "kernelspec": {
   "display_name": "Python 3 (ipykernel)",
   "language": "python",
   "name": "python3"
  },
  "language_info": {
   "codemirror_mode": {
    "name": "ipython",
    "version": 3
   },
   "file_extension": ".py",
   "mimetype": "text/x-python",
   "name": "python",
   "nbconvert_exporter": "python",
   "pygments_lexer": "ipython3",
   "version": "3.10.0"
  }
 },
 "nbformat": 4,
 "nbformat_minor": 5
}
